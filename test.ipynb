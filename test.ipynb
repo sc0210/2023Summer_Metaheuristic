{
 "cells": [
  {
   "cell_type": "code",
   "execution_count": 106,
   "metadata": {},
   "outputs": [],
   "source": [
    "import pandas as pd\n",
    "import numpy as np\n",
    "import math\n",
    "import sys\n",
    "data=[]"
   ]
  },
  {
   "cell_type": "code",
   "execution_count": 109,
   "metadata": {},
   "outputs": [
    {
     "name": "stdout",
     "output_type": "stream",
     "text": [
      "Node number: 535\n",
      "0: 5.385\n",
      "1: 6.896\n",
      "2: 4.233\n",
      "3: 2.951\n",
      "4: 11.873\n",
      "5: 7.697\n",
      "6: 10.766\n",
      "7: 2.337\n",
      "8: 6.475\n",
      "9: 5.467\n",
      "10: 5.703\n",
      "11: 13.148\n",
      "12: 6.29\n",
      "13: 6.608\n",
      "14: 6.38\n",
      "15: 5.675\n",
      "16: 6.214\n",
      "17: 5.751\n",
      "18: 14.542\n",
      "19: 6.206\n",
      "20: 5.77\n",
      "21: 1.015\n",
      "22: 11.686\n",
      "23: 2.002\n",
      "24: 6.908\n",
      "25: 14.515\n",
      "26: 2.676\n",
      "27: 6.843\n",
      "28: 8.863\n",
      "29: 5.491\n",
      "30: 2.373\n",
      "31: 6.468\n",
      "32: 4.834\n",
      "33: 5.672\n",
      "34: 2.982\n",
      "35: 3.755\n",
      "36: 10.852\n",
      "37: 9.072\n",
      "38: 5.479\n",
      "39: 2.464\n",
      "40: 4.921\n",
      "41: 3.118\n",
      "42: 10.748\n",
      "43: 9.22\n",
      "44: 6.016\n",
      "45: 5.896\n",
      "46: 6.255\n",
      "47: 9.831\n",
      "48: 10.676\n",
      "49: 4.777\n",
      "50: 4.93\n",
      "51: 5.01\n",
      "52: 3.45\n",
      "53: 6.249\n",
      "54: 7.247\n",
      "55: 4.789\n",
      "56: 1.342\n",
      "57: 7.78\n",
      "58: 11.692\n",
      "59: 3.751\n",
      "60: 8.505\n",
      "61: 7.419\n",
      "62: 10.629\n",
      "63: 3.317\n",
      "64: 6.013\n",
      "65: 10.945\n",
      "66: 7.329\n",
      "67: 5.748\n",
      "68: 12.404\n",
      "69: 6.678\n",
      "70: 5.442\n",
      "71: 5.69\n",
      "72: 9.317\n",
      "73: 4.517\n",
      "74: 6.808\n",
      "75: 5.757\n",
      "76: 8.052\n",
      "77: 7.07\n",
      "78: 5.394\n",
      "79: 13.428\n",
      "80: 6.703\n",
      "81: 8.861\n",
      "82: 7.21\n",
      "83: 7.312\n",
      "84: 7.276\n",
      "85: 10.64\n",
      "86: 6.675\n",
      "87: 4.961\n",
      "88: 6.265\n",
      "89: 7.325\n",
      "90: 6.801\n",
      "91: 5.66\n",
      "92: 6.327\n",
      "93: 5.654\n",
      "94: 5.303\n",
      "95: 4.882\n",
      "96: 10.997\n",
      "97: 4.271\n",
      "98: 6.87\n",
      "99: 4.393\n",
      "100: 5.487\n",
      "101: 1.077\n",
      "102: 9.489\n",
      "103: 6.382\n",
      "104: 5.83\n",
      "105: 7.531\n",
      "106: 7.212\n",
      "107: 13.576\n",
      "108: 8.772\n",
      "109: 8.117\n",
      "110: 7.327\n",
      "111: 6.832\n",
      "112: 6.063\n",
      "113: 6.752\n",
      "114: 4.452\n",
      "115: 6.59\n",
      "116: 11.364\n",
      "117: 5.396\n",
      "118: 4.766\n",
      "119: 11.08\n",
      "120: 8.917\n",
      "121: 5.816\n",
      "122: 13.168\n",
      "123: 8.51\n",
      "124: 11.094\n",
      "125: 6.369\n",
      "126: 6.391\n",
      "127: 3.991\n",
      "128: 6.752\n",
      "129: 1.995\n",
      "130: 6.556\n",
      "131: 7.207\n",
      "132: 4.716\n",
      "133: 9.251\n",
      "134: 13.13\n",
      "135: 4.685\n",
      "136: 8.983\n",
      "137: 11.104\n",
      "138: 11.101\n",
      "139: 7.373\n",
      "140: 10.495\n",
      "141: 8.171\n",
      "142: 5.305\n",
      "143: 11.358\n",
      "144: 1.749\n",
      "145: 6.756\n",
      "146: 4.917\n",
      "147: 7.756\n",
      "148: 10.748\n",
      "149: 6.981\n",
      "150: 12.0\n",
      "151: 11.345\n",
      "152: 4.893\n",
      "153: 6.489\n",
      "154: 4.801\n",
      "155: 5.635\n",
      "156: 2.328\n",
      "157: 3.344\n",
      "158: 5.117\n",
      "159: 7.009\n",
      "160: 11.115\n",
      "161: 6.134\n",
      "162: 11.949\n",
      "163: 11.201\n",
      "164: 11.196\n",
      "165: 7.708\n",
      "166: 6.687\n",
      "167: 5.482\n",
      "168: 5.677\n",
      "169: 6.414\n",
      "170: 7.667\n",
      "171: 6.785\n",
      "172: 11.732\n",
      "173: 7.327\n",
      "174: 6.492\n",
      "175: 2.659\n",
      "176: 6.505\n",
      "177: 10.701\n",
      "178: 7.327\n",
      "179: 4.882\n",
      "180: 14.56\n",
      "181: 6.678\n",
      "182: 6.218\n",
      "183: 7.012\n",
      "184: 5.417\n",
      "185: 8.68\n",
      "186: 3.499\n",
      "187: 4.415\n",
      "188: 5.689\n",
      "189: 4.636\n",
      "190: 5.093\n",
      "191: 6.456\n",
      "192: 5.664\n",
      "193: 6.958\n",
      "194: 6.465\n",
      "195: 7.368\n",
      "196: 6.985\n",
      "197: 5.996\n",
      "198: 7.005\n",
      "199: 3.804\n",
      "200: 4.544\n",
      "201: 7.732\n",
      "202: 6.326\n",
      "203: 5.86\n",
      "204: 5.979\n",
      "205: 6.263\n",
      "206: 6.251\n",
      "207: 6.37\n",
      "208: 5.634\n",
      "209: 7.155\n",
      "210: 10.23\n",
      "211: 6.33\n",
      "212: 8.8\n",
      "213: 6.547\n",
      "214: 6.586\n",
      "215: 5.967\n",
      "216: 3.176\n",
      "217: 9.503\n",
      "218: 9.588\n",
      "219: 5.031\n",
      "220: 10.204\n",
      "221: 13.37\n",
      "222: 11.175\n",
      "223: 10.763\n",
      "224: 11.029\n",
      "225: 6.107\n",
      "226: 12.025\n",
      "227: 4.434\n",
      "228: 5.37\n",
      "229: 11.208\n",
      "230: 3.479\n",
      "231: 3.327\n",
      "232: 4.221\n",
      "233: 7.159\n",
      "234: 10.67\n",
      "235: 5.636\n",
      "236: 10.611\n",
      "237: 7.364\n",
      "238: 6.293\n",
      "239: 10.896\n",
      "240: 1.929\n",
      "241: 5.897\n",
      "242: 9.271\n",
      "243: 5.627\n",
      "244: 9.891\n",
      "245: 6.523\n",
      "246: 12.713\n",
      "247: 9.697\n",
      "248: 5.53\n",
      "249: 4.119\n",
      "250: 7.603\n",
      "251: 9.912\n",
      "252: 4.295\n",
      "253: 4.653\n",
      "254: 8.772\n",
      "255: 12.293\n",
      "256: 12.321\n",
      "257: 7.41\n",
      "258: 6.805\n",
      "259: 2.997\n",
      "260: 1.068\n",
      "261: 6.566\n",
      "262: 5.415\n",
      "263: 6.223\n",
      "264: 6.244\n",
      "265: 6.254\n",
      "266: 2.225\n",
      "267: 10.676\n",
      "268: 12.321\n",
      "269: 6.716\n",
      "270: 7.155\n",
      "271: 7.18\n",
      "272: 6.877\n",
      "273: 8.066\n",
      "274: 6.009\n",
      "275: 6.895\n",
      "276: 5.644\n",
      "277: 4.789\n",
      "278: 5.834\n",
      "279: 7.18\n",
      "280: 1.775\n",
      "281: 6.541\n",
      "282: 7.198\n",
      "283: 7.466\n",
      "284: 2.225\n",
      "285: 7.194\n",
      "286: 7.609\n",
      "287: 6.593\n",
      "288: 10.475\n",
      "289: 6.576\n",
      "290: 6.556\n",
      "291: 2.65\n",
      "292: 6.394\n",
      "293: 8.192\n",
      "294: 6.605\n",
      "295: 5.971\n",
      "296: 7.441\n",
      "297: 7.547\n",
      "298: 9.043\n",
      "299: 6.586\n",
      "300: 5.545\n",
      "301: 11.559\n",
      "302: 10.465\n",
      "303: 5.9\n",
      "304: 5.979\n",
      "305: 13.49\n",
      "306: 3.887\n",
      "307: 13.488\n",
      "308: 10.877\n",
      "309: 9.909\n",
      "310: 6.571\n",
      "311: 10.279\n",
      "312: 10.487\n",
      "313: 6.009\n",
      "314: 5.0\n",
      "315: 11.551\n",
      "316: 4.608\n",
      "317: 8.319\n",
      "318: 6.34\n",
      "319: 6.489\n",
      "320: 7.454\n",
      "321: 10.33\n",
      "322: 4.281\n",
      "323: 6.306\n",
      "324: 7.609\n",
      "325: 11.563\n",
      "326: 6.175\n",
      "327: 8.813\n",
      "328: 7.071\n",
      "329: 11.733\n",
      "330: 5.118\n",
      "331: 6.714\n",
      "332: 10.943\n",
      "333: 7.583\n",
      "334: 6.055\n",
      "335: 4.639\n",
      "336: 6.079\n",
      "337: 6.555\n",
      "338: 13.954\n",
      "339: 5.133\n",
      "340: 10.114\n",
      "341: 6.144\n",
      "342: 6.022\n",
      "343: 7.512\n",
      "344: 6.285\n",
      "345: 1.715\n",
      "346: 9.849\n",
      "347: 1.039\n",
      "348: 3.345\n",
      "349: 5.799\n",
      "350: 6.434\n",
      "351: 6.496\n",
      "352: 10.236\n",
      "353: 6.961\n",
      "354: 6.185\n",
      "355: 7.158\n",
      "356: 10.67\n",
      "357: 6.714\n",
      "358: 3.981\n",
      "359: 10.062\n",
      "360: 11.52\n",
      "361: 5.588\n",
      "362: 11.688\n",
      "363: 7.039\n",
      "364: 11.364\n",
      "365: 7.732\n",
      "366: 10.462\n",
      "367: 5.979\n",
      "368: 6.797\n",
      "369: 10.04\n",
      "370: 7.005\n",
      "371: 6.971\n",
      "372: 4.276\n",
      "373: 3.677\n",
      "374: 6.983\n",
      "375: 9.514\n",
      "376: 6.797\n",
      "377: 8.736\n",
      "378: 12.13\n",
      "379: 1.581\n",
      "380: 10.648\n",
      "381: 10.708\n",
      "382: 12.053\n",
      "383: 7.732\n",
      "384: 6.795\n",
      "385: 10.975\n",
      "386: 6.681\n",
      "387: 6.074\n",
      "388: 5.004\n",
      "389: 9.653\n",
      "390: 4.991\n",
      "391: 12.506\n",
      "392: 8.46\n",
      "393: 9.396\n",
      "394: 5.992\n",
      "395: 5.759\n",
      "396: 5.306\n",
      "397: 8.802\n",
      "398: 9.395\n",
      "399: 6.594\n",
      "400: 5.768\n",
      "401: 6.277\n",
      "402: 6.362\n",
      "403: 5.145\n",
      "404: 4.759\n",
      "405: 9.255\n",
      "406: 8.919\n",
      "407: 6.72\n",
      "408: 2.857\n",
      "409: 4.898\n",
      "410: 4.544\n",
      "411: 5.548\n",
      "412: 5.625\n",
      "413: 7.034\n",
      "414: 4.045\n",
      "415: 5.417\n",
      "416: 11.448\n",
      "417: 5.284\n",
      "418: 6.878\n",
      "419: 4.693\n",
      "420: 6.3\n",
      "421: 8.028\n",
      "422: 5.37\n",
      "423: 10.124\n",
      "424: 12.229\n",
      "425: 4.907\n",
      "426: 11.296\n",
      "427: 6.973\n",
      "428: 8.55\n",
      "429: 6.102\n",
      "430: 7.127\n",
      "431: 3.317\n",
      "432: 9.363\n",
      "433: 13.017\n",
      "434: 3.568\n",
      "435: 9.442\n",
      "436: 7.136\n",
      "437: 7.727\n",
      "438: 12.633\n",
      "439: 9.491\n",
      "440: 5.48\n",
      "441: 6.247\n",
      "442: 10.116\n",
      "443: 12.601\n",
      "444: 5.029\n",
      "445: 9.682\n",
      "446: 9.68\n",
      "447: 9.18\n",
      "448: 4.211\n",
      "449: 4.494\n",
      "450: 12.333\n",
      "451: 7.854\n",
      "452: 7.808\n",
      "453: 4.379\n",
      "454: 5.21\n",
      "455: 5.066\n",
      "456: 11.343\n",
      "457: 7.155\n",
      "458: 6.468\n",
      "459: 6.267\n",
      "460: 4.732\n",
      "461: 7.29\n",
      "462: 4.281\n",
      "463: 6.542\n",
      "464: 6.398\n",
      "465: 6.239\n",
      "466: 13.589\n",
      "467: 4.799\n",
      "468: 5.872\n",
      "469: 4.803\n",
      "470: 5.296\n",
      "471: 6.67\n",
      "472: 8.169\n",
      "473: 6.566\n",
      "474: 6.67\n",
      "475: 10.058\n",
      "476: 6.249\n",
      "477: 3.972\n",
      "478: 4.662\n",
      "479: 4.394\n",
      "480: 6.492\n",
      "481: 1.587\n",
      "482: 4.15\n",
      "483: 2.49\n",
      "484: 6.402\n",
      "485: 8.11\n",
      "486: 5.05\n",
      "487: 5.385\n",
      "488: 9.813\n",
      "489: 5.026\n",
      "490: 7.325\n",
      "491: 6.142\n",
      "492: 5.676\n",
      "493: 5.768\n",
      "494: 6.843\n",
      "495: 11.476\n",
      "496: 5.135\n",
      "497: 6.258\n",
      "498: 10.204\n",
      "499: 10.912\n",
      "500: 5.245\n",
      "501: 8.844\n",
      "502: 9.413\n",
      "503: 8.603\n",
      "504: 6.322\n",
      "505: 3.956\n",
      "506: 5.752\n",
      "507: 4.907\n",
      "508: 5.634\n",
      "509: 6.291\n",
      "510: 6.777\n",
      "511: 5.892\n",
      "512: 10.763\n",
      "513: 5.614\n",
      "514: 6.518\n",
      "515: 12.905\n",
      "516: 10.385\n",
      "517: 10.928\n",
      "518: 10.981\n",
      "519: 10.85\n",
      "520: 11.169\n",
      "521: 10.144\n",
      "522: 10.896\n",
      "523: 13.123\n",
      "524: 12.112\n",
      "525: 12.848\n",
      "526: 9.991\n",
      "527: 11.081\n",
      "528: 5.371\n",
      "529: 5.423\n",
      "530: 6.514\n",
      "531: 6.728\n",
      "532: 6.241\n",
      "533: 7.155\n",
      "534: 8.182\n"
     ]
    }
   ],
   "source": [
    "# line_number = 7  # Example: Read the third line\n",
    "data=[]        \n",
    "line_number = sys.maxsize\n",
    "\n",
    "with open('./ali535.tsp', 'r') as file:\n",
    "    for idx, line in enumerate(file):\n",
    "        if \"DIMENSION\"in line:\n",
    "            print(f\"Node number: {line.split()[1]}\")\n",
    "        if \"NODE_COORD_SECTION\" in line:\n",
    "            line_number = idx\n",
    "        elif idx >= line_number - 1:\n",
    "            data.append(line.split())\n",
    "df = pd.DataFrame(data, columns=['No.', 'x', 'y'])\n",
    "df.set_index('No.', inplace=True)\n",
    "\n",
    "def ElurDist(xx,yy):\n",
    "    xx,yy =float(xx),float(yy)\n",
    "    result = math.sqrt(abs(xx-yy))\n",
    "    return np.round(result,3)\n",
    "\n",
    "for idx in range(df.shape[0]):\n",
    "    xx,yy = df.iloc[idx][0],df.iloc[idx][1]\n",
    "    if df.iloc[idx][0] is not None:\n",
    "        s = ElurDist(xx,yy)\n",
    "        print(f\"{idx}: {s}\")\n"
   ]
  },
  {
   "cell_type": "code",
   "execution_count": 82,
   "metadata": {},
   "outputs": [
    {
     "data": {
      "text/plain": [
       "NoneType"
      ]
     },
     "execution_count": 82,
     "metadata": {},
     "output_type": "execute_result"
    }
   ],
   "source": [
    "type(df.iloc[-1][0])"
   ]
  },
  {
   "cell_type": "code",
   "execution_count": 68,
   "metadata": {},
   "outputs": [
    {
     "data": {
      "text/plain": [
       "x    148\n",
       "y    145\n",
       "Name: 20, dtype: object"
      ]
     },
     "execution_count": 68,
     "metadata": {},
     "output_type": "execute_result"
    }
   ],
   "source": [
    "df.iloc[19]"
   ]
  },
  {
   "cell_type": "code",
   "execution_count": 129,
   "metadata": {},
   "outputs": [
    {
     "data": {
      "text/plain": [
       "{1, 2, 3, 4, 5, 6, 7, 8, 9, 10, 11, 12, 13, 14, 15, 16, 17, 18, 19}"
      ]
     },
     "execution_count": 129,
     "metadata": {},
     "output_type": "execute_result"
    }
   ],
   "source": [
    "a = set([idx for idx in range(1,20)])\n",
    "a"
   ]
  },
  {
   "cell_type": "code",
   "execution_count": 137,
   "metadata": {},
   "outputs": [
    {
     "data": {
      "text/plain": [
       "9"
      ]
     },
     "execution_count": 137,
     "metadata": {},
     "output_type": "execute_result"
    }
   ],
   "source": [
    "import random\n",
    "random.randint(1,10)"
   ]
  },
  {
   "cell_type": "code",
   "execution_count": 193,
   "metadata": {},
   "outputs": [],
   "source": [
    "def Generate(node=10):\n",
    "    sol=[]\n",
    "    NotVisited = set(range(1, node + 1))\n",
    "\n",
    "    # Initial\n",
    "    StartPoint = random.choice(list(NotVisited))\n",
    "    sol.append(StartPoint)\n",
    "    NotVisited.remove(StartPoint)\n",
    "    # print(f\"StartPoint: {StartPoint}\")\n",
    "    \n",
    "    # Find subsequent\n",
    "    while NotVisited:\n",
    "        NextPoint = NotVisited.pop()\n",
    "        sol.append(NextPoint)\n",
    "    # print(sol)\n",
    "    return sol #[1,4,2,5,10,3,...]"
   ]
  },
  {
   "cell_type": "code",
   "execution_count": 194,
   "metadata": {},
   "outputs": [
    {
     "data": {
      "text/plain": [
       "array([[0, 4, 2, 1, 5],\n",
       "       [4, 0, 8, 5, 4],\n",
       "       [2, 8, 0, 6, 1],\n",
       "       [1, 5, 6, 0, 8],\n",
       "       [5, 4, 1, 8, 0]])"
      ]
     },
     "execution_count": 194,
     "metadata": {},
     "output_type": "execute_result"
    }
   ],
   "source": [
    "def GenerateDisMat(node):\n",
    "    M = np.zeros((node,node),dtype=int)\n",
    "    for i in range(node):\n",
    "        for j in range(node):\n",
    "            value = np.random.randint(0,10)\n",
    "            M[i][j] =M[j][i] = value\n",
    "            M[i][i] = 0\n",
    "    return M\n",
    "\n",
    "GenerateDisMat(5)"
   ]
  },
  {
   "cell_type": "code",
   "execution_count": 211,
   "metadata": {},
   "outputs": [],
   "source": [
    "a = GenerateDisMat(node=5)\n",
    "def EdgeCost(DistMatrix,p1,p2):\n",
    "    return DistMatrix[p1-1][p2-1]\n"
   ]
  },
  {
   "cell_type": "code",
   "execution_count": 215,
   "metadata": {},
   "outputs": [
    {
     "name": "stdout",
     "output_type": "stream",
     "text": [
      "No.0: 11\n",
      "No.1: 5\n",
      "No.2: 11\n",
      "No.3: 5\n",
      "No.4: 7\n"
     ]
    }
   ],
   "source": [
    "sol =[]\n",
    "node =5\n",
    "AntNum  =5\n",
    "for idx in range(AntNum):\n",
    "    tmp = Generate(node)\n",
    "    sol.append(tmp)\n",
    "    Cost=0\n",
    "    for s in range(node-1):\n",
    "        Cost += EdgeCost(a,tmp[s],tmp[s+1])\n",
    "        s+=2\n",
    "    print(f\"No.{idx}: {Cost}\")"
   ]
  },
  {
   "cell_type": "code",
   "execution_count": 7,
   "metadata": {},
   "outputs": [
    {
     "data": {
      "text/plain": [
       "[1, 2, 3, 4, 5]"
      ]
     },
     "execution_count": 7,
     "metadata": {},
     "output_type": "execute_result"
    }
   ],
   "source": [
    "[i+1 for i in range(5)]"
   ]
  },
  {
   "cell_type": "code",
   "execution_count": 213,
   "metadata": {},
   "outputs": [
    {
     "data": {
      "text/plain": [
       "array([[0, 5, 0, 8, 9],\n",
       "       [5, 0, 4, 0, 0],\n",
       "       [0, 4, 0, 2, 7],\n",
       "       [8, 0, 2, 0, 0],\n",
       "       [9, 0, 7, 0, 0]])"
      ]
     },
     "execution_count": 213,
     "metadata": {},
     "output_type": "execute_result"
    }
   ],
   "source": [
    "a \n",
    "# 8 5 4 7\n",
    "# 8 5 "
   ]
  },
  {
   "cell_type": "code",
   "execution_count": 191,
   "metadata": {},
   "outputs": [
    {
     "name": "stdout",
     "output_type": "stream",
     "text": [
      "87\n",
      "63\n",
      "78\n",
      "96\n",
      "79\n"
     ]
    }
   ],
   "source": [
    "for idx in range(5):\n",
    "    Cost = 0\n",
    "    for s in range(len(sol[idx])-1):\n",
    "        p1 = sol[idx][s-1]\n",
    "        p2 = sol[idx][s]\n",
    "        Cost += EdgeCost(p1,p2)\n",
    "    print(Cost)\n",
    "    # break"
   ]
  },
  {
   "cell_type": "code",
   "execution_count": 15,
   "metadata": {},
   "outputs": [
    {
     "name": "stdout",
     "output_type": "stream",
     "text": [
      "[1, 2, 3, 4, 5]\n",
      "[1, 2, 3, 4]\n",
      "[5, 2, 4, 1, 3]\n"
     ]
    }
   ],
   "source": [
    "import random\n",
    "sol = []\n",
    "NotVisited = [i + 1 for i in range(5)]\n",
    "print(NotVisited)\n",
    "\n",
    "# Initial point(by random pick)\n",
    "StartPoint = random.choice(NotVisited)\n",
    "NotVisited.remove(StartPoint)\n",
    "print(NotVisited)\n",
    "sol.append(StartPoint)\n",
    "\n",
    "# Finish the subsequent solution\n",
    "while len(NotVisited) != 0:\n",
    "    pick = random.choice(NotVisited)\n",
    "    NotVisited.remove(pick)\n",
    "    sol.append(pick)\n",
    "print(sol)\n"
   ]
  },
  {
   "cell_type": "code",
   "execution_count": 22,
   "metadata": {},
   "outputs": [
    {
     "name": "stdout",
     "output_type": "stream",
     "text": [
      "[19, 15, 2, 9, 13, 7, 8, 14, 3, 6, 5, 1, 20, 16, 4, 10, 12, 18, 11, 17]\n"
     ]
    }
   ],
   "source": [
    "node =20\n",
    "sol=[]\n",
    "NotVisited = list(range(1, node + 1))\n",
    "random.shuffle(NotVisited)\n",
    "sol.extend(NotVisited)\n",
    "print(sol)"
   ]
  },
  {
   "cell_type": "code",
   "execution_count": 63,
   "metadata": {},
   "outputs": [],
   "source": [
    "db=[[1,2,3],[3,2,1],[1,3,2]]"
   ]
  },
  {
   "cell_type": "code",
   "execution_count": 78,
   "metadata": {},
   "outputs": [],
   "source": [
    "def DeltaSum(i, j, db):\n",
    "    for ant_idx, ant in enumerate(db):\n",
    "        if i in ant and i != ant[-1] and ant[ant.index(i) + 1] == j:\n",
    "            print(f\"Yes {ant_idx}\")\n",
    "        else:\n",
    "            print(f\"Not found in ant {ant_idx}\")"
   ]
  },
  {
   "cell_type": "code",
   "execution_count": 79,
   "metadata": {},
   "outputs": [
    {
     "name": "stdout",
     "output_type": "stream",
     "text": [
      "Not found in ant 0\n",
      "Yes 1\n",
      "Yes 2\n"
     ]
    }
   ],
   "source": [
    "DeltaSum(3,2,db)"
   ]
  },
  {
   "cell_type": "code",
   "execution_count": 83,
   "metadata": {},
   "outputs": [],
   "source": [
    "import numpy as np\n",
    "def RandSquareMat(min, max, dim):\n",
    "        \"\"\"Random Generate distance cost matrix\n",
    "        for debug use\"\"\"\n",
    "        M = np.zeros((dim, dim), dtype=float)\n",
    "        for i in range(dim):\n",
    "            for j in range(dim):\n",
    "                M[i][j] = M[j][i] = random.uniform(min, max)\n",
    "                M[i][i] = 0\n",
    "        return M"
   ]
  },
  {
   "cell_type": "code",
   "execution_count": 146,
   "metadata": {},
   "outputs": [
    {
     "name": "stdout",
     "output_type": "stream",
     "text": [
      "[[0.         6.0598815  1.11833681 8.11583047]\n",
      " [6.0598815  0.         4.85104941 3.90540768]\n",
      " [1.11833681 4.85104941 0.         1.81868511]\n",
      " [8.11583047 3.90540768 1.81868511 0.        ]]\n",
      "[[ 0.         60.65153151 45.15517926 23.95946152]\n",
      " [60.65153151  0.         85.71215904 98.09045155]\n",
      " [45.15517926 85.71215904  0.         14.39093328]\n",
      " [23.95946152 98.09045155 14.39093328  0.        ]]\n"
     ]
    }
   ],
   "source": [
    "PheronomeMatrix, DistMatrix = RandSquareMat(1.0,10,dim=4),RandSquareMat(1.0,100,dim=4)\n",
    "print(PheronomeMatrix)\n",
    "print(DistMatrix)"
   ]
  },
  {
   "cell_type": "code",
   "execution_count": 150,
   "metadata": {},
   "outputs": [],
   "source": [
    "NodeNum =4\n",
    "alpha = beta =1\n",
    "def SolConstruct():\n",
    "        \"\"\"Solution constuct in single ant\"\"\"\n",
    "        visited = []\n",
    "        unvistied = list(range(NodeNum))\n",
    "        # print(unvistied)\n",
    "\n",
    "        StartPoint = random.randint(0, NodeNum)\n",
    "        visited.append(StartPoint)\n",
    "        unvistied.remove(StartPoint)\n",
    "        # print(unvistied)\n",
    "\n",
    "\n",
    "        while len(visited) != NodeNum:\n",
    "            # Calculate the probability of next point\n",
    "            prob = np.zeros(len(unvistied), dtype=float)\n",
    "            for idx, u_idx in enumerate(unvistied):\n",
    "                prob[idx] = NextPointProb(visited[-1], u_idx, visited,PheronomeMatrix, DistMatrix)\n",
    "            print(prob)\n",
    "            total_prob = sum(prob)\n",
    "            normalized_probs = [p / total_prob for p in prob]\n",
    "\n",
    "            # Pick next point porportion to the prob calcluate in the above\n",
    "            next_point = np.random.choice(unvistied, p=normalized_probs)\n",
    "            visited.append(next_point)\n",
    "            unvistied.remove(next_point)\n",
    "        \n",
    "        print(visited)\n",
    "        return visited\n",
    "\n",
    "def NextPointProb(i, j, visited, PheronomeMatrix, DistMatrix):\n",
    "        P, _D = PheronomeMatrix, np.where(DistMatrix != 0, 1 / DistMatrix, 0)\n",
    "        dd = 0\n",
    "        uu = (P[i][j]) ** alpha + (_D[i][j]) ** beta\n",
    "        for v in visited:\n",
    "            dd += (P[i][v]) ** alpha + (_D[i][v]) ** beta\n",
    "        \n",
    "        # Add a small constant to avoid division by zero\n",
    "        epsilon = 1e-10\n",
    "        dd += epsilon\n",
    "            \n",
    "        prob = uu / dd\n",
    "        return prob"
   ]
  },
  {
   "cell_type": "code",
   "execution_count": 151,
   "metadata": {},
   "outputs": [
    {
     "name": "stdout",
     "output_type": "stream",
     "text": [
      "[1.14048267e+10 4.86271636e+10 1.88817331e+10]\n",
      "[1.24958329 0.80522943]\n",
      "[1.13034989]\n",
      "[2, 1, 0, 3]\n"
     ]
    },
    {
     "name": "stderr",
     "output_type": "stream",
     "text": [
      "/var/folders/1z/by3dhv6x3fsfqlxysgxnx1y80000gn/T/ipykernel_99552/1767458126.py:33: RuntimeWarning: divide by zero encountered in divide\n",
      "  P, _D = PheronomeMatrix, np.where(DistMatrix != 0, 1 / DistMatrix, 0)\n"
     ]
    },
    {
     "data": {
      "text/plain": [
       "[2, 1, 0, 3]"
      ]
     },
     "execution_count": 151,
     "metadata": {},
     "output_type": "execute_result"
    }
   ],
   "source": [
    "SolConstruct()"
   ]
  },
  {
   "cell_type": "code",
   "execution_count": 163,
   "metadata": {},
   "outputs": [
    {
     "data": {
      "text/plain": [
       "array([10,  4])"
      ]
     },
     "execution_count": 163,
     "metadata": {},
     "output_type": "execute_result"
    }
   ],
   "source": [
    "a = [10,1,3,4]\n",
    "aa = np.sort(a)[::-1][:2]\n",
    "aa"
   ]
  },
  {
   "cell_type": "code",
   "execution_count": 164,
   "metadata": {},
   "outputs": [
    {
     "data": {
      "text/plain": [
       "[0, 3]"
      ]
     },
     "execution_count": 164,
     "metadata": {},
     "output_type": "execute_result"
    }
   ],
   "source": [
    "[a.index(i) for i in aa]"
   ]
  },
  {
   "cell_type": "code",
   "execution_count": 165,
   "metadata": {},
   "outputs": [],
   "source": [
    "import glob\n",
    "import contextlib\n",
    "from PIL import Image\n",
    "\n",
    "# filepaths\n",
    "fp_in = \"/Users/samchen/Pictures/2023/cs/Export/*.jpg\"\n",
    "fp_out = \"/Users/samchen/Desktop/image.gif\"\n",
    "\n",
    "# use exit stack to automatically close opened images\n",
    "with contextlib.ExitStack() as stack:\n",
    "\n",
    "    # lazily load images\n",
    "    imgs = (stack.enter_context(Image.open(f))\n",
    "            for f in sorted(glob.glob(fp_in)))\n",
    "\n",
    "    # extract  first image from iterator\n",
    "    img = next(imgs)\n",
    "\n",
    "    # https://pillow.readthedocs.io/en/stable/handbook/image-file-formats.html#gif\n",
    "    img.save(fp=fp_out, format='GIF', append_images=imgs,\n",
    "             save_all=True, duration=100, loop=0)\n"
   ]
  },
  {
   "cell_type": "code",
   "execution_count": null,
   "metadata": {},
   "outputs": [],
   "source": []
  }
 ],
 "metadata": {
  "kernelspec": {
   "display_name": "datsci",
   "language": "python",
   "name": "python3"
  },
  "language_info": {
   "codemirror_mode": {
    "name": "ipython",
    "version": 3
   },
   "file_extension": ".py",
   "mimetype": "text/x-python",
   "name": "python",
   "nbconvert_exporter": "python",
   "pygments_lexer": "ipython3",
   "version": "3.10.9"
  },
  "orig_nbformat": 4
 },
 "nbformat": 4,
 "nbformat_minor": 2
}
